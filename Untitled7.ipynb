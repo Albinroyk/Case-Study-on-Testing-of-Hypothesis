{
  "nbformat": 4,
  "nbformat_minor": 0,
  "metadata": {
    "colab": {
      "provenance": []
    },
    "kernelspec": {
      "name": "python3",
      "display_name": "Python 3"
    },
    "language_info": {
      "name": "python"
    }
  },
  "cells": [
    {
      "cell_type": "code",
      "execution_count": 1,
      "metadata": {
        "id": "T2Y-hDSUzujI"
      },
      "outputs": [],
      "source": [
        "\n",
        "import numpy as np\n",
        "import pandas as pd\n",
        "import matplotlib.pyplot as plt\n",
        "import  seaborn as sns\n",
        "data = pd.read_csv('/content/Sales_add.csv')"
      ]
    },
    {
      "cell_type": "code",
      "source": [
        "import pandas as pd\n",
        "\n",
        "# Data provided\n",
        "data = {\n",
        "    'Month': [f'Month-{i}' for i in range(1, 23)],\n",
        "    'Region': ['A', 'A', 'B', 'B', 'C', 'A', 'C', 'A', 'B', 'C', 'B', 'A', 'B', 'A', 'C', 'A', 'A', 'C', 'B', 'A', 'B', 'A'],\n",
        "    'Manager': ['A', 'C', 'A', 'B', 'B', 'B', 'C', 'A', 'C', 'B', 'C', 'A', 'A', 'A', 'C', 'B', 'B', 'B', 'A', 'B', 'A', 'C'],\n",
        "    'Sales_before_digital_add(in $)': [132921, 149559, 146278, 152167, 159525, 137163, 130625, 131140, 171259, 141956, 159339, 178939, 145062, 151514, 147463, 177195, 140862, 167996, 132135, 152493, 147425, 130263],\n",
        "    'Sales_After_digital_add(in $)': [270390, 223334, 244243, 231808, 258402, 256948, 222106, 230637, 226261, 193735, 203175, 276279, 205180, 253131, 229336, 187305, 234908, 191517, 227040, 212579, 263388, 243020]\n",
        "}\n",
        "\n",
        "# Convert data to DataFrame\n",
        "df = pd.DataFrame(data)\n",
        "\n",
        "# Step 1: Calculate average sales before and after stepping into digital marketing\n",
        "avg_sales_before = df['Sales_before_digital_add(in $)'].mean()\n",
        "avg_sales_after = df['Sales_After_digital_add(in $)'].mean()\n",
        "\n",
        "# Step 2: Check if there's an increase or decrease in sales after stepping into digital marketing\n",
        "if avg_sales_after > avg_sales_before:\n",
        "    print(\"There is an increase in sales after stepping into digital marketing.\")\n",
        "elif avg_sales_after < avg_sales_before:\n",
        "    print(\"There is a decrease in sales after stepping into digital marketing.\")\n",
        "else:\n",
        "    print(\"There is no change in sales after stepping into digital marketing.\")\n",
        "\n",
        "# Step 3: Check for dependency between the features \"Region\" and \"Manager\"\n",
        "# Here, we can perform a chi-square test for independence\n",
        "contingency_table = pd.crosstab(df['Region'], df['Manager'])\n",
        "chi2, p_value, _, _ = stats.chi2_contingency(contingency_table)\n",
        "\n",
        "# Define significance level\n",
        "alpha = 0.05\n",
        "\n",
        "# Print the results\n",
        "if p_value < alpha:\n",
        "    print(\"There is a dependency between Region and Manager.\")\n",
        "else:\n",
        "    print(\"There is no dependency between Region and Manager.\")\n"
      ],
      "metadata": {
        "colab": {
          "base_uri": "https://localhost:8080/"
        },
        "id": "jfXZ2vyN7G8q",
        "outputId": "f9396488-c591-4647-c553-26f729bff110"
      },
      "execution_count": 13,
      "outputs": [
        {
          "output_type": "stream",
          "name": "stdout",
          "text": [
            "There is an increase in sales after stepping into digital marketing.\n",
            "There is no dependency between Region and Manager.\n"
          ]
        }
      ]
    }
  ]
}